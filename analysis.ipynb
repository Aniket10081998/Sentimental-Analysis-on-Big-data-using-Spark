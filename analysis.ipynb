{
 "cells": [
  {
   "cell_type": "code",
   "execution_count": 26,
   "metadata": {},
   "outputs": [],
   "source": [
    "from textblob import TextBlob\n",
    "from pyspark import SparkConf, SparkContext\n",
    "from pyspark.sql import SQLContext\n",
    "from pyspark.sql import SparkSession\n",
    "from pyspark.sql.functions import col, udf"
   ]
  },
  {
   "cell_type": "code",
   "execution_count": 27,
   "metadata": {},
   "outputs": [],
   "source": [
    "conf = SparkConf().setAppName(\"Sent Analysis Textblob\")"
   ]
  },
  {
   "cell_type": "code",
   "execution_count": 1,
   "metadata": {},
   "outputs": [
    {
     "ename": "NameError",
     "evalue": "name 'SparkContext' is not defined",
     "output_type": "error",
     "traceback": [
      "\u001b[0;31m---------------------------------------------------------------------------\u001b[0m",
      "\u001b[0;31mNameError\u001b[0m                                 Traceback (most recent call last)",
      "\u001b[0;32m<ipython-input-1-66f9c693822e>\u001b[0m in \u001b[0;36m<module>\u001b[0;34m\u001b[0m\n\u001b[0;32m----> 1\u001b[0;31m \u001b[0msc\u001b[0m \u001b[0;34m=\u001b[0m \u001b[0mSparkContext\u001b[0m\u001b[0;34m(\u001b[0m\u001b[0mconf\u001b[0m\u001b[0;34m=\u001b[0m\u001b[0mconf\u001b[0m\u001b[0;34m)\u001b[0m\u001b[0;34m\u001b[0m\u001b[0;34m\u001b[0m\u001b[0m\n\u001b[0m",
      "\u001b[0;31mNameError\u001b[0m: name 'SparkContext' is not defined"
     ]
    }
   ],
   "source": [
    "sc = SparkContext(conf=conf)"
   ]
  },
  {
   "cell_type": "code",
   "execution_count": 4,
   "metadata": {},
   "outputs": [],
   "source": [
    "sqlCtx = SQLContext(sc)"
   ]
  },
  {
   "cell_type": "code",
   "execution_count": 5,
   "metadata": {},
   "outputs": [],
   "source": [
    "df = sqlCtx.read.json(\"kindle_store.json\")"
   ]
  },
  {
   "cell_type": "code",
   "execution_count": 6,
   "metadata": {},
   "outputs": [
    {
     "data": {
      "text/plain": [
       "DataFrame[asin: string, helpful: array<bigint>, overall: double, reviewText: string, reviewTime: string, reviewerID: string, reviewerName: string, summary: string, unixReviewTime: bigint]"
      ]
     },
     "execution_count": 6,
     "metadata": {},
     "output_type": "execute_result"
    }
   ],
   "source": [
    "df"
   ]
  },
  {
   "cell_type": "code",
   "execution_count": 7,
   "metadata": {},
   "outputs": [],
   "source": [
    "reviews = df[[\"reviewText\",\"overall\"]]"
   ]
  },
  {
   "cell_type": "code",
   "execution_count": 8,
   "metadata": {},
   "outputs": [
    {
     "name": "stdout",
     "output_type": "stream",
     "text": [
      "+--------------------+-------+\n",
      "|          reviewText|overall|\n",
      "+--------------------+-------+\n",
      "|I enjoy vintage b...|    5.0|\n",
      "|This book is a re...|    4.0|\n",
      "|This was a fairly...|    4.0|\n",
      "|I'd never read an...|    5.0|\n",
      "|If you like perio...|    4.0|\n",
      "|A beautiful in-de...|    4.0|\n",
      "|I enjoyed this on...|    4.0|\n",
      "|Never heard of Am...|    4.0|\n",
      "|Darth Maul workin...|    5.0|\n",
      "|This is a short s...|    4.0|\n",
      "|I think I have th...|    5.0|\n",
      "|Title has nothing...|    4.0|\n",
      "|Well written. Int...|    3.0|\n",
      "|Troy Denning's no...|    3.0|\n",
      "|I am not for sure...|    5.0|\n",
      "|I really enjoyed ...|    5.0|\n",
      "|Great read enjoye...|    5.0|\n",
      "|Another well writ...|    3.0|\n",
      "|This one promises...|    5.0|\n",
      "|I have a version ...|    4.0|\n",
      "+--------------------+-------+\n",
      "only showing top 20 rows\n",
      "\n"
     ]
    }
   ],
   "source": [
    "reviews.show(20)"
   ]
  },
  {
   "cell_type": "code",
   "execution_count": 9,
   "metadata": {},
   "outputs": [],
   "source": [
    "sqlCtx.registerDataFrameAsTable(reviews, \"table2\")"
   ]
  },
  {
   "cell_type": "code",
   "execution_count": 10,
   "metadata": {},
   "outputs": [],
   "source": [
    "reviews1 = sqlCtx.sql(\"SELECT reviewText, overall from table2\")"
   ]
  },
  {
   "cell_type": "code",
   "execution_count": 11,
   "metadata": {},
   "outputs": [],
   "source": [
    "#positive->1\n",
    "#neutral->0\n",
    "#negative->2\n",
    "def transform(star):\n",
    "        if star >=3.0:\n",
    "                return 1.0\n",
    "        elif star == 3.0:\n",
    "                return 0.0\n",
    "        else:\n",
    "                return 2.0"
   ]
  },
  {
   "cell_type": "code",
   "execution_count": 12,
   "metadata": {},
   "outputs": [],
   "source": [
    "transformer = udf(transform)"
   ]
  },
  {
   "cell_type": "code",
   "execution_count": 13,
   "metadata": {},
   "outputs": [],
   "source": [
    "df1 = reviews1.withColumn(\"label\", transformer(reviews['overall']))"
   ]
  },
  {
   "cell_type": "code",
   "execution_count": 14,
   "metadata": {},
   "outputs": [],
   "source": [
    "sqlCtx.registerDataFrameAsTable(df1, \"table1\")"
   ]
  },
  {
   "cell_type": "code",
   "execution_count": 15,
   "metadata": {},
   "outputs": [],
   "source": [
    "df2 = sqlCtx.sql(\"SELECT reviewText, label from table1 WHERE reviewText != ''\")"
   ]
  },
  {
   "cell_type": "code",
   "execution_count": 16,
   "metadata": {},
   "outputs": [
    {
     "name": "stdout",
     "output_type": "stream",
     "text": [
      "+--------------------+-----+\n",
      "|          reviewText|label|\n",
      "+--------------------+-----+\n",
      "|I enjoy vintage b...|  1.0|\n",
      "|This book is a re...|  1.0|\n",
      "|This was a fairly...|  1.0|\n",
      "|I'd never read an...|  1.0|\n",
      "|If you like perio...|  1.0|\n",
      "|A beautiful in-de...|  1.0|\n",
      "|I enjoyed this on...|  1.0|\n",
      "|Never heard of Am...|  1.0|\n",
      "|Darth Maul workin...|  1.0|\n",
      "|This is a short s...|  1.0|\n",
      "|I think I have th...|  1.0|\n",
      "|Title has nothing...|  1.0|\n",
      "|Well written. Int...|  1.0|\n",
      "|Troy Denning's no...|  1.0|\n",
      "|I am not for sure...|  1.0|\n",
      "|I really enjoyed ...|  1.0|\n",
      "|Great read enjoye...|  1.0|\n",
      "|Another well writ...|  1.0|\n",
      "|This one promises...|  1.0|\n",
      "|I have a version ...|  1.0|\n",
      "+--------------------+-----+\n",
      "only showing top 20 rows\n",
      "\n"
     ]
    }
   ],
   "source": [
    "df2.show()"
   ]
  },
  {
   "cell_type": "code",
   "execution_count": 17,
   "metadata": {},
   "outputs": [],
   "source": [
    "def apply_blob(sentence):\n",
    "    temp = TextBlob(sentence).sentiment[0]\n",
    "    if temp == 0.0:\n",
    "        return 0.0\n",
    "    elif temp >= 0.0:\n",
    "        return 1.0\n",
    "    else:\n",
    "        return 2.0"
   ]
  },
  {
   "cell_type": "code",
   "execution_count": 18,
   "metadata": {},
   "outputs": [],
   "source": [
    "predictions = udf(apply_blob)"
   ]
  },
  {
   "cell_type": "code",
   "execution_count": 19,
   "metadata": {},
   "outputs": [],
   "source": [
    "blob_df = df2.withColumn(\"predicted\", predictions(df2['reviewText']))"
   ]
  },
  {
   "cell_type": "code",
   "execution_count": 20,
   "metadata": {},
   "outputs": [
    {
     "name": "stdout",
     "output_type": "stream",
     "text": [
      "+--------------------+-----+---------+\n",
      "|          reviewText|label|predicted|\n",
      "+--------------------+-----+---------+\n",
      "|I enjoy vintage b...|  1.0|      1.0|\n",
      "|This book is a re...|  1.0|      1.0|\n",
      "|This was a fairly...|  1.0|      1.0|\n",
      "|I'd never read an...|  1.0|      1.0|\n",
      "|If you like perio...|  1.0|      1.0|\n",
      "|A beautiful in-de...|  1.0|      1.0|\n",
      "|I enjoyed this on...|  1.0|      1.0|\n",
      "|Never heard of Am...|  1.0|      1.0|\n",
      "|Darth Maul workin...|  1.0|      1.0|\n",
      "|This is a short s...|  1.0|      1.0|\n",
      "|I think I have th...|  1.0|      1.0|\n",
      "|Title has nothing...|  1.0|      1.0|\n",
      "|Well written. Int...|  1.0|      1.0|\n",
      "|Troy Denning's no...|  1.0|      1.0|\n",
      "|I am not for sure...|  1.0|      1.0|\n",
      "|I really enjoyed ...|  1.0|      1.0|\n",
      "|Great read enjoye...|  1.0|      1.0|\n",
      "|Another well writ...|  1.0|      1.0|\n",
      "|This one promises...|  1.0|      1.0|\n",
      "|I have a version ...|  1.0|      2.0|\n",
      "+--------------------+-----+---------+\n",
      "only showing top 20 rows\n",
      "\n"
     ]
    }
   ],
   "source": [
    "blob_df.show()"
   ]
  },
  {
   "cell_type": "code",
   "execution_count": 21,
   "metadata": {},
   "outputs": [],
   "source": [
    "true_labels = [i.label for i in blob_df.select(\"label\").collect()]"
   ]
  },
  {
   "cell_type": "code",
   "execution_count": 22,
   "metadata": {},
   "outputs": [],
   "source": [
    "predicted_labels = [i.predicted for i in blob_df.select(\"predicted\").collect()]"
   ]
  },
  {
   "cell_type": "code",
   "execution_count": 23,
   "metadata": {},
   "outputs": [],
   "source": [
    "correct = 0\n",
    "wrong = 0"
   ]
  },
  {
   "cell_type": "code",
   "execution_count": 24,
   "metadata": {},
   "outputs": [],
   "source": [
    "for i in range(len(true_labels)):\n",
    "        if true_labels[i] == predicted_labels[i]:\n",
    "                correct +=1\n",
    "        else:\n",
    "                wrong +=1"
   ]
  },
  {
   "cell_type": "code",
   "execution_count": 25,
   "metadata": {},
   "outputs": [
    {
     "name": "stdout",
     "output_type": "stream",
     "text": [
      "Correct predictions:  893520\n",
      "Wrong predictions:  89077\n",
      "Accuracy:  0.9093453368980365\n"
     ]
    }
   ],
   "source": [
    "print('Correct predictions: ', correct)\n",
    "print('Wrong predictions: ', wrong)\n",
    "print('Accuracy: ', correct/(correct+wrong))"
   ]
  },
  {
   "cell_type": "code",
   "execution_count": null,
   "metadata": {},
   "outputs": [],
   "source": []
  },
  {
   "cell_type": "code",
   "execution_count": null,
   "metadata": {},
   "outputs": [],
   "source": []
  },
  {
   "cell_type": "code",
   "execution_count": null,
   "metadata": {},
   "outputs": [],
   "source": []
  },
  {
   "cell_type": "code",
   "execution_count": null,
   "metadata": {},
   "outputs": [],
   "source": []
  },
  {
   "cell_type": "code",
   "execution_count": null,
   "metadata": {},
   "outputs": [],
   "source": []
  }
 ],
 "metadata": {
  "kernelspec": {
   "display_name": "Python 3",
   "language": "python",
   "name": "python3"
  },
  "language_info": {
   "codemirror_mode": {
    "name": "ipython",
    "version": 3
   },
   "file_extension": ".py",
   "mimetype": "text/x-python",
   "name": "python",
   "nbconvert_exporter": "python",
   "pygments_lexer": "ipython3",
   "version": "3.7.1"
  }
 },
 "nbformat": 4,
 "nbformat_minor": 2
}
